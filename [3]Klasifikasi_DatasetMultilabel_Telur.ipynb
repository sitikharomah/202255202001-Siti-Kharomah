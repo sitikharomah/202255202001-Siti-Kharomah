{
  "nbformat": 4,
  "nbformat_minor": 0,
  "metadata": {
    "colab": {
      "provenance": [],
      "authorship_tag": "ABX9TyP1oUCiEu6yTFDj3s+NBBw1",
      "include_colab_link": true
    },
    "kernelspec": {
      "name": "python3",
      "display_name": "Python 3"
    },
    "language_info": {
      "name": "python"
    }
  },
  "cells": [
    {
      "cell_type": "markdown",
      "metadata": {
        "id": "view-in-github",
        "colab_type": "text"
      },
      "source": [
        "<a href=\"https://colab.research.google.com/github/sitikharomah/202255202001-Siti-Kharomah/blob/main/%5B3%5DKlasifikasi_DatasetMultilabel_Telur.ipynb\" target=\"_parent\"><img src=\"https://colab.research.google.com/assets/colab-badge.svg\" alt=\"Open In Colab\"/></a>"
      ]
    },
    {
      "cell_type": "code",
      "execution_count": 1,
      "metadata": {
        "id": "2IHnHCntF_On"
      },
      "outputs": [],
      "source": [
        "!pip install -q kaggle\n",
        "!pip install -q tensorflow"
      ]
    },
    {
      "cell_type": "code",
      "source": [
        "import tensorflow as tf\n",
        "#from keras.preprocessing.image import ImageDataGenerator # This line is incorrect\n",
        "from tensorflow.keras.preprocessing.image import ImageDataGenerator # Import from tensorflow.keras instead"
      ],
      "metadata": {
        "id": "Gh3c2op4Gqhi"
      },
      "execution_count": 3,
      "outputs": []
    },
    {
      "cell_type": "code",
      "source": [
        "import keras\n",
        "from keras.models import Sequential\n",
        "from keras.layers import Dense, Dropout, Flatten\n",
        "from keras.layers import Conv2D, MaxPooling2D\n",
        "from keras.preprocessing import image\n",
        "import numpy as np\n",
        "import pandas as pd\n",
        "import matplotlib.pyplot as plt\n",
        "from sklearn.model_selection import train_test_split\n",
        "from sklearn.metrics import classification_report, confusion_matrix\n",
        "from keras.applications import VGG16\n",
        "from tensorflow.keras.preprocessing.image import ImageDataGenerator\n",
        "from tqdm import tqdm\n",
        "from keras.layers import BatchNormalization"
      ],
      "metadata": {
        "id": "1AIf-efsGLyU"
      },
      "execution_count": 5,
      "outputs": []
    },
    {
      "cell_type": "code",
      "source": [
        "from google.colab import files\n",
        "upload = files.upload()"
      ],
      "metadata": {
        "colab": {
          "base_uri": "https://localhost:8080/",
          "height": 73
        },
        "id": "h8TL_YUyGL5Q",
        "outputId": "de1e1726-a71d-4c9b-83ce-1eb15e7303e0"
      },
      "execution_count": 6,
      "outputs": [
        {
          "output_type": "display_data",
          "data": {
            "text/plain": [
              "<IPython.core.display.HTML object>"
            ],
            "text/html": [
              "\n",
              "     <input type=\"file\" id=\"files-778d169b-7d71-4c48-921a-0e84fde82798\" name=\"files[]\" multiple disabled\n",
              "        style=\"border:none\" />\n",
              "     <output id=\"result-778d169b-7d71-4c48-921a-0e84fde82798\">\n",
              "      Upload widget is only available when the cell has been executed in the\n",
              "      current browser session. Please rerun this cell to enable.\n",
              "      </output>\n",
              "      <script>// Copyright 2017 Google LLC\n",
              "//\n",
              "// Licensed under the Apache License, Version 2.0 (the \"License\");\n",
              "// you may not use this file except in compliance with the License.\n",
              "// You may obtain a copy of the License at\n",
              "//\n",
              "//      http://www.apache.org/licenses/LICENSE-2.0\n",
              "//\n",
              "// Unless required by applicable law or agreed to in writing, software\n",
              "// distributed under the License is distributed on an \"AS IS\" BASIS,\n",
              "// WITHOUT WARRANTIES OR CONDITIONS OF ANY KIND, either express or implied.\n",
              "// See the License for the specific language governing permissions and\n",
              "// limitations under the License.\n",
              "\n",
              "/**\n",
              " * @fileoverview Helpers for google.colab Python module.\n",
              " */\n",
              "(function(scope) {\n",
              "function span(text, styleAttributes = {}) {\n",
              "  const element = document.createElement('span');\n",
              "  element.textContent = text;\n",
              "  for (const key of Object.keys(styleAttributes)) {\n",
              "    element.style[key] = styleAttributes[key];\n",
              "  }\n",
              "  return element;\n",
              "}\n",
              "\n",
              "// Max number of bytes which will be uploaded at a time.\n",
              "const MAX_PAYLOAD_SIZE = 100 * 1024;\n",
              "\n",
              "function _uploadFiles(inputId, outputId) {\n",
              "  const steps = uploadFilesStep(inputId, outputId);\n",
              "  const outputElement = document.getElementById(outputId);\n",
              "  // Cache steps on the outputElement to make it available for the next call\n",
              "  // to uploadFilesContinue from Python.\n",
              "  outputElement.steps = steps;\n",
              "\n",
              "  return _uploadFilesContinue(outputId);\n",
              "}\n",
              "\n",
              "// This is roughly an async generator (not supported in the browser yet),\n",
              "// where there are multiple asynchronous steps and the Python side is going\n",
              "// to poll for completion of each step.\n",
              "// This uses a Promise to block the python side on completion of each step,\n",
              "// then passes the result of the previous step as the input to the next step.\n",
              "function _uploadFilesContinue(outputId) {\n",
              "  const outputElement = document.getElementById(outputId);\n",
              "  const steps = outputElement.steps;\n",
              "\n",
              "  const next = steps.next(outputElement.lastPromiseValue);\n",
              "  return Promise.resolve(next.value.promise).then((value) => {\n",
              "    // Cache the last promise value to make it available to the next\n",
              "    // step of the generator.\n",
              "    outputElement.lastPromiseValue = value;\n",
              "    return next.value.response;\n",
              "  });\n",
              "}\n",
              "\n",
              "/**\n",
              " * Generator function which is called between each async step of the upload\n",
              " * process.\n",
              " * @param {string} inputId Element ID of the input file picker element.\n",
              " * @param {string} outputId Element ID of the output display.\n",
              " * @return {!Iterable<!Object>} Iterable of next steps.\n",
              " */\n",
              "function* uploadFilesStep(inputId, outputId) {\n",
              "  const inputElement = document.getElementById(inputId);\n",
              "  inputElement.disabled = false;\n",
              "\n",
              "  const outputElement = document.getElementById(outputId);\n",
              "  outputElement.innerHTML = '';\n",
              "\n",
              "  const pickedPromise = new Promise((resolve) => {\n",
              "    inputElement.addEventListener('change', (e) => {\n",
              "      resolve(e.target.files);\n",
              "    });\n",
              "  });\n",
              "\n",
              "  const cancel = document.createElement('button');\n",
              "  inputElement.parentElement.appendChild(cancel);\n",
              "  cancel.textContent = 'Cancel upload';\n",
              "  const cancelPromise = new Promise((resolve) => {\n",
              "    cancel.onclick = () => {\n",
              "      resolve(null);\n",
              "    };\n",
              "  });\n",
              "\n",
              "  // Wait for the user to pick the files.\n",
              "  const files = yield {\n",
              "    promise: Promise.race([pickedPromise, cancelPromise]),\n",
              "    response: {\n",
              "      action: 'starting',\n",
              "    }\n",
              "  };\n",
              "\n",
              "  cancel.remove();\n",
              "\n",
              "  // Disable the input element since further picks are not allowed.\n",
              "  inputElement.disabled = true;\n",
              "\n",
              "  if (!files) {\n",
              "    return {\n",
              "      response: {\n",
              "        action: 'complete',\n",
              "      }\n",
              "    };\n",
              "  }\n",
              "\n",
              "  for (const file of files) {\n",
              "    const li = document.createElement('li');\n",
              "    li.append(span(file.name, {fontWeight: 'bold'}));\n",
              "    li.append(span(\n",
              "        `(${file.type || 'n/a'}) - ${file.size} bytes, ` +\n",
              "        `last modified: ${\n",
              "            file.lastModifiedDate ? file.lastModifiedDate.toLocaleDateString() :\n",
              "                                    'n/a'} - `));\n",
              "    const percent = span('0% done');\n",
              "    li.appendChild(percent);\n",
              "\n",
              "    outputElement.appendChild(li);\n",
              "\n",
              "    const fileDataPromise = new Promise((resolve) => {\n",
              "      const reader = new FileReader();\n",
              "      reader.onload = (e) => {\n",
              "        resolve(e.target.result);\n",
              "      };\n",
              "      reader.readAsArrayBuffer(file);\n",
              "    });\n",
              "    // Wait for the data to be ready.\n",
              "    let fileData = yield {\n",
              "      promise: fileDataPromise,\n",
              "      response: {\n",
              "        action: 'continue',\n",
              "      }\n",
              "    };\n",
              "\n",
              "    // Use a chunked sending to avoid message size limits. See b/62115660.\n",
              "    let position = 0;\n",
              "    do {\n",
              "      const length = Math.min(fileData.byteLength - position, MAX_PAYLOAD_SIZE);\n",
              "      const chunk = new Uint8Array(fileData, position, length);\n",
              "      position += length;\n",
              "\n",
              "      const base64 = btoa(String.fromCharCode.apply(null, chunk));\n",
              "      yield {\n",
              "        response: {\n",
              "          action: 'append',\n",
              "          file: file.name,\n",
              "          data: base64,\n",
              "        },\n",
              "      };\n",
              "\n",
              "      let percentDone = fileData.byteLength === 0 ?\n",
              "          100 :\n",
              "          Math.round((position / fileData.byteLength) * 100);\n",
              "      percent.textContent = `${percentDone}% done`;\n",
              "\n",
              "    } while (position < fileData.byteLength);\n",
              "  }\n",
              "\n",
              "  // All done.\n",
              "  yield {\n",
              "    response: {\n",
              "      action: 'complete',\n",
              "    }\n",
              "  };\n",
              "}\n",
              "\n",
              "scope.google = scope.google || {};\n",
              "scope.google.colab = scope.google.colab || {};\n",
              "scope.google.colab._files = {\n",
              "  _uploadFiles,\n",
              "  _uploadFilesContinue,\n",
              "};\n",
              "})(self);\n",
              "</script> "
            ]
          },
          "metadata": {}
        },
        {
          "output_type": "stream",
          "name": "stdout",
          "text": [
            "Saving kaggle.json to kaggle.json\n"
          ]
        }
      ]
    },
    {
      "cell_type": "code",
      "source": [
        "import os\n",
        "os.environ[\"KAGGLE_USERNAME\"] = \"skharomah\"  # Ganti dengan username Kaggle Anda\n",
        "os.environ[\"KAGGLE_KEY\"] = \"c/content/kaggle.json\"  # Ganti dengan key yang ada di kaggle.json"
      ],
      "metadata": {
        "id": "vU8TX_gIGL9r"
      },
      "execution_count": 7,
      "outputs": []
    },
    {
      "cell_type": "code",
      "source": [
        "!kaggle datasets download -d skharomah/klasifikasi-multilabel-telur\n",
        "!unzip klasifikasi-multilabel-telur.zip"
      ],
      "metadata": {
        "colab": {
          "base_uri": "https://localhost:8080/"
        },
        "id": "siiz9rfFGMAT",
        "outputId": "be343463-2877-4ee2-b523-28106bd0f761"
      },
      "execution_count": 8,
      "outputs": [
        {
          "output_type": "stream",
          "name": "stdout",
          "text": [
            "Dataset URL: https://www.kaggle.com/datasets/skharomah/klasifikasi-multilabel-telur\n",
            "License(s): CC0-1.0\n",
            "Archive:  klasifikasi-multilabel-telur.zip\n",
            "  inflating: DatasetMultilable_Siti Kharomah_202255202001/jt202505001.jpg  \n",
            "  inflating: DatasetMultilable_Siti Kharomah_202255202001/jt202505002.jpg  \n",
            "  inflating: DatasetMultilable_Siti Kharomah_202255202001/jt202505003.jpg  \n",
            "  inflating: DatasetMultilable_Siti Kharomah_202255202001/jt202505004.jpg  \n",
            "  inflating: DatasetMultilable_Siti Kharomah_202255202001/jt202505005.jpg  \n",
            "  inflating: DatasetMultilable_Siti Kharomah_202255202001/jt202505006.jpg  \n",
            "  inflating: DatasetMultilable_Siti Kharomah_202255202001/jt202505007.jpg  \n",
            "  inflating: DatasetMultilable_Siti Kharomah_202255202001/jt202505008.jpg  \n",
            "  inflating: DatasetMultilable_Siti Kharomah_202255202001/jt202505009.jpg  \n",
            "  inflating: DatasetMultilable_Siti Kharomah_202255202001/jt202505010.jpg  \n",
            "  inflating: DatasetMultilable_Siti Kharomah_202255202001/jt202505011.jpg  \n",
            "  inflating: DatasetMultilable_Siti Kharomah_202255202001/jt202505012.jpg  \n",
            "  inflating: DatasetMultilable_Siti Kharomah_202255202001/jt202505013.jpg  \n",
            "  inflating: DatasetMultilable_Siti Kharomah_202255202001/jt202505014.jpg  \n",
            "  inflating: DatasetMultilable_Siti Kharomah_202255202001/jt202505015.jpg  \n",
            "  inflating: DatasetMultilable_Siti Kharomah_202255202001/jt202505016.jpg  \n",
            "  inflating: DatasetMultilable_Siti Kharomah_202255202001/jt202505017.jpg  \n",
            "  inflating: DatasetMultilable_Siti Kharomah_202255202001/jt202505018.jpg  \n",
            "  inflating: DatasetMultilable_Siti Kharomah_202255202001/jt202505019.jpg  \n",
            "  inflating: DatasetMultilable_Siti Kharomah_202255202001/jt202505020.jpg  \n",
            "  inflating: DatasetMultilable_Siti Kharomah_202255202001/jt202505021.jpg  \n",
            "  inflating: DatasetMultilable_Siti Kharomah_202255202001/jt202505022.jpg  \n",
            "  inflating: DatasetMultilable_Siti Kharomah_202255202001/jt202505023.jpg  \n",
            "  inflating: DatasetMultilable_Siti Kharomah_202255202001/jt202505024.jpg  \n",
            "  inflating: DatasetMultilable_Siti Kharomah_202255202001/jt202505025.jpg  \n",
            "  inflating: DatasetMultilable_Siti Kharomah_202255202001/jt202505026.jpg  \n",
            "  inflating: DatasetMultilable_Siti Kharomah_202255202001/jt202505027.jpg  \n",
            "  inflating: DatasetMultilable_Siti Kharomah_202255202001/jt202505028.jpg  \n",
            "  inflating: DatasetMultilable_Siti Kharomah_202255202001/jt202505029.jpg  \n",
            "  inflating: DatasetMultilable_Siti Kharomah_202255202001/jt202505030.jpg  \n",
            "  inflating: DatasetMultilable_Siti Kharomah_202255202001/jt202505031.jpg  \n",
            "  inflating: DatasetMultilable_Siti Kharomah_202255202001/jt202505032.jpg  \n",
            "  inflating: DatasetMultilable_Siti Kharomah_202255202001/jt202505033.jpg  \n",
            "  inflating: DatasetMultilable_Siti Kharomah_202255202001/jt202505034.jpg  \n",
            "  inflating: DatasetMultilable_Siti Kharomah_202255202001/jt202505035.jpg  \n",
            "  inflating: DatasetMultilable_Siti Kharomah_202255202001/jt202505036.jpg  \n",
            "  inflating: DatasetMultilable_Siti Kharomah_202255202001/jt202505037.jpg  \n",
            "  inflating: DatasetMultilable_Siti Kharomah_202255202001/jt202505038.jpg  \n",
            "  inflating: DatasetMultilable_Siti Kharomah_202255202001/jt202505039.jpg  \n",
            "  inflating: DatasetMultilable_Siti Kharomah_202255202001/jt202505040.jpg  \n",
            "  inflating: DatasetMultilable_Siti Kharomah_202255202001/jt202505041.jpg  \n",
            "  inflating: DatasetMultilable_Siti Kharomah_202255202001/jt202505042.jpg  \n",
            "  inflating: DatasetMultilable_Siti Kharomah_202255202001/jt202505043.jpg  \n",
            "  inflating: DatasetMultilable_Siti Kharomah_202255202001/jt202505044.jpg  \n",
            "  inflating: DatasetMultilable_Siti Kharomah_202255202001/jt202505045.jpg  \n",
            "  inflating: DatasetMultilable_Siti Kharomah_202255202001/jt202505046.jpg  \n",
            "  inflating: DatasetMultilable_Siti Kharomah_202255202001/jt202505047.jpg  \n",
            "  inflating: DatasetMultilable_Siti Kharomah_202255202001/jt202505048.jpg  \n",
            "  inflating: DatasetMultilable_Siti Kharomah_202255202001/jt202505049.jpg  \n",
            "  inflating: DatasetMultilable_Siti Kharomah_202255202001/jt202505050.jpg  \n",
            "  inflating: DatasetMultilable_Siti Kharomah_202255202001/jt202505051.jpg  \n",
            "  inflating: DatasetMultilable_Siti Kharomah_202255202001/jt202505052.jpg  \n",
            "  inflating: DatasetMultilable_Siti Kharomah_202255202001/jt202505053.jpg  \n",
            "  inflating: DatasetMultilable_Siti Kharomah_202255202001/jt202505054.jpg  \n",
            "  inflating: DatasetMultilable_Siti Kharomah_202255202001/jt202505055.jpg  \n",
            "  inflating: DatasetMultilable_Siti Kharomah_202255202001/jt202505056.jpg  \n",
            "  inflating: DatasetMultilable_Siti Kharomah_202255202001/jt202505057.jpg  \n",
            "  inflating: DatasetMultilable_Siti Kharomah_202255202001/jt202505058.jpg  \n",
            "  inflating: DatasetMultilable_Siti Kharomah_202255202001/jt202505059.jpg  \n",
            "  inflating: DatasetMultilable_Siti Kharomah_202255202001/jt202505060.jpg  \n",
            "  inflating: DatasetMultilable_Siti Kharomah_202255202001/jt202505061.jpg  \n",
            "  inflating: DatasetMultilable_Siti Kharomah_202255202001/jt202505062.jpg  \n",
            "  inflating: DatasetMultilable_Siti Kharomah_202255202001/jt202505063.jpg  \n",
            "  inflating: DatasetMultilable_Siti Kharomah_202255202001/jt202505064.jpg  \n",
            "  inflating: DatasetMultilable_Siti Kharomah_202255202001/jt202505065.jpg  \n",
            "  inflating: DatasetMultilable_Siti Kharomah_202255202001/jt202505066.jpg  \n",
            "  inflating: DatasetMultilable_Siti Kharomah_202255202001/jt202505067.jpg  \n",
            "  inflating: DatasetMultilable_Siti Kharomah_202255202001/jt202505068.jpg  \n",
            "  inflating: DatasetMultilable_Siti Kharomah_202255202001/jt202505069.jpg  \n",
            "  inflating: DatasetMultilable_Siti Kharomah_202255202001/jt202505070.jpg  \n",
            "  inflating: DatasetMultilable_Siti Kharomah_202255202001/jt202505071.jpg  \n",
            "  inflating: DatasetMultilable_Siti Kharomah_202255202001/jt202505072.jpg  \n",
            "  inflating: DatasetMultilable_Siti Kharomah_202255202001/jt202505073.jpg  \n",
            "  inflating: DatasetMultilable_Siti Kharomah_202255202001/jt202505074.jpg  \n",
            "  inflating: DatasetMultilable_Siti Kharomah_202255202001/jt202505075.jpg  \n",
            "  inflating: DatasetMultilable_Siti Kharomah_202255202001/jt202505076.jpg  \n",
            "  inflating: DatasetMultilable_Siti Kharomah_202255202001/jt202505077.jpg  \n",
            "  inflating: DatasetMultilable_Siti Kharomah_202255202001/jt202505078.jpg  \n",
            "  inflating: DatasetMultilable_Siti Kharomah_202255202001/jt202505079.jpg  \n",
            "  inflating: DatasetMultilable_Siti Kharomah_202255202001/jt202505080.jpg  \n",
            "  inflating: DatasetMultilable_Siti Kharomah_202255202001/jt202505081.jpg  \n",
            "  inflating: DatasetMultilable_Siti Kharomah_202255202001/jt202505082.jpg  \n",
            "  inflating: DatasetMultilable_Siti Kharomah_202255202001/jt202505083.jpg  \n",
            "  inflating: DatasetMultilable_Siti Kharomah_202255202001/jt202505084.jpg  \n",
            "  inflating: DatasetMultilable_Siti Kharomah_202255202001/jt202505085.jpg  \n",
            "  inflating: DatasetMultilable_Siti Kharomah_202255202001/jt202505086.jpg  \n",
            "  inflating: DatasetMultilable_Siti Kharomah_202255202001/jt202505087.jpg  \n",
            "  inflating: DatasetMultilable_Siti Kharomah_202255202001/jt202505088.jpg  \n",
            "  inflating: DatasetMultilable_Siti Kharomah_202255202001/jt202505089.jpg  \n",
            "  inflating: DatasetMultilable_Siti Kharomah_202255202001/jt202505090.jpg  \n",
            "  inflating: DatasetMultilable_Siti Kharomah_202255202001/jt202505091.jpg  \n",
            "  inflating: DatasetMultilable_Siti Kharomah_202255202001/jt202505092.jpg  \n",
            "  inflating: DatasetMultilable_Siti Kharomah_202255202001/jt202505093.jpg  \n",
            "  inflating: DatasetMultilable_Siti Kharomah_202255202001/jt202505094.jpg  \n",
            "  inflating: DatasetMultilable_Siti Kharomah_202255202001/jt202505095.jpg  \n",
            "  inflating: DatasetMultilable_Siti Kharomah_202255202001/jt202505096.jpg  \n",
            "  inflating: DatasetMultilable_Siti Kharomah_202255202001/jt202505097.jpg  \n",
            "  inflating: DatasetMultilable_Siti Kharomah_202255202001/jt202505098.jpg  \n",
            "  inflating: DatasetMultilable_Siti Kharomah_202255202001/jt202505099.jpg  \n",
            "  inflating: DatasetMultilable_Siti Kharomah_202255202001/jt202505100.jpg  \n",
            "  inflating: DatasetMultilable_Siti Kharomah_202255202001/jt202505101.jpg  \n",
            "  inflating: DatasetMultilable_Siti Kharomah_202255202001/jt202505102.jpg  \n",
            "  inflating: DatasetMultilable_Siti Kharomah_202255202001/jt202505103.jpg  \n",
            "  inflating: DatasetMultilable_Siti Kharomah_202255202001/jt202505104.jpg  \n",
            "  inflating: DatasetMultilable_Siti Kharomah_202255202001/jt202505105.jpg  \n",
            "  inflating: DatasetMultilable_Siti Kharomah_202255202001/jt202505106.jpg  \n",
            "  inflating: DatasetMultilable_Siti Kharomah_202255202001/jt202505107.jpg  \n",
            "  inflating: DatasetMultilable_Siti Kharomah_202255202001/jt202505108.jpg  \n",
            "  inflating: DatasetMultilable_Siti Kharomah_202255202001/jt202505109.jpg  \n",
            "  inflating: DatasetMultilable_Siti Kharomah_202255202001/jt202505110.jpg  \n",
            "  inflating: DatasetMultilable_Siti Kharomah_202255202001/jt202505111.jpg  \n",
            "  inflating: DatasetMultilable_Siti Kharomah_202255202001/jt202505112.jpg  \n",
            "  inflating: DatasetMultilable_Siti Kharomah_202255202001/jt202505113.jpg  \n",
            "  inflating: DatasetMultilable_Siti Kharomah_202255202001/jt202505114.jpg  \n",
            "  inflating: DatasetMultilable_Siti Kharomah_202255202001/jt202505115.jpg  \n",
            "  inflating: DatasetMultilable_Siti Kharomah_202255202001/jt202505116.jpg  \n",
            "  inflating: DatasetMultilable_Siti Kharomah_202255202001/jt202505117.jpg  \n",
            "  inflating: DatasetMultilable_Siti Kharomah_202255202001/jt202505118.jpg  \n",
            "  inflating: DatasetMultilable_Siti Kharomah_202255202001/jt202505119.jpg  \n",
            "  inflating: DatasetMultilable_Siti Kharomah_202255202001/jt202505120.jpg  \n",
            "  inflating: DatasetMultilable_Siti Kharomah_202255202001/jt202505121.jpg  \n",
            "  inflating: DatasetMultilable_Siti Kharomah_202255202001/jt202505122.jpg  \n",
            "  inflating: DatasetMultilable_Siti Kharomah_202255202001/jt202505123.jpg  \n",
            "  inflating: DatasetMultilable_Siti Kharomah_202255202001/jt202505124.jpg  \n",
            "  inflating: DatasetMultilable_Siti Kharomah_202255202001/jt202505125.jpg  \n",
            "  inflating: DatasetMultilable_Siti Kharomah_202255202001/jt202505126.jpg  \n",
            "  inflating: DatasetMultilable_Siti Kharomah_202255202001/jt202505127.jpg  \n",
            "  inflating: DatasetMultilable_Siti Kharomah_202255202001/jt202505128.jpg  \n",
            "  inflating: DatasetMultilable_Siti Kharomah_202255202001/jt202505129.jpg  \n",
            "  inflating: DatasetMultilable_Siti Kharomah_202255202001/jt202505130.jpg  \n",
            "  inflating: DatasetMultilable_Siti Kharomah_202255202001/jt202505131.jpg  \n",
            "  inflating: DatasetMultilable_Siti Kharomah_202255202001/jt202505132.jpg  \n",
            "  inflating: DatasetMultilable_Siti Kharomah_202255202001/jt202505133.jpg  \n",
            "  inflating: DatasetMultilable_Siti Kharomah_202255202001/jt202505134.jpg  \n",
            "  inflating: DatasetMultilable_Siti Kharomah_202255202001/jt202505135.jpg  \n",
            "  inflating: DatasetMultilable_Siti Kharomah_202255202001/jt202505136.jpg  \n",
            "  inflating: DatasetMultilable_Siti Kharomah_202255202001/jt202505137.jpg  \n",
            "  inflating: DatasetMultilable_Siti Kharomah_202255202001/jt202505138.jpg  \n",
            "  inflating: DatasetMultilable_Siti Kharomah_202255202001/jt202505139.jpg  \n",
            "  inflating: DatasetMultilable_Siti Kharomah_202255202001/jt202505140.jpg  \n",
            "  inflating: DatasetMultilable_Siti Kharomah_202255202001/jt202505141.jpg  \n",
            "  inflating: DatasetMultilable_Siti Kharomah_202255202001/jt202505142.jpg  \n",
            "  inflating: DatasetMultilable_Siti Kharomah_202255202001/jt202505143.jpg  \n",
            "  inflating: DatasetMultilable_Siti Kharomah_202255202001/jt202505144.jpg  \n",
            "  inflating: DatasetMultilable_Siti Kharomah_202255202001/jt202505145.jpg  \n",
            "  inflating: DatasetMultilable_Siti Kharomah_202255202001/jt202505146.jpg  \n",
            "  inflating: DatasetMultilable_Siti Kharomah_202255202001/jt202505147.jpg  \n",
            "  inflating: DatasetMultilable_Siti Kharomah_202255202001/jt202505148.jpg  \n",
            "  inflating: DatasetMultilable_Siti Kharomah_202255202001/jt202505149.jpg  \n",
            "  inflating: DatasetMultilable_Siti Kharomah_202255202001/jt202505150.jpg  \n",
            "  inflating: DatasetMultilable_Siti Kharomah_202255202001/jt202505151.jpg  \n",
            "  inflating: DatasetMultilable_Siti Kharomah_202255202001/jt202505152.jpg  \n",
            "  inflating: DatasetMultilable_Siti Kharomah_202255202001/jt202505153.jpg  \n",
            "  inflating: DatasetMultilable_Siti Kharomah_202255202001/jt202505154.jpg  \n",
            "  inflating: DatasetMultilable_Siti Kharomah_202255202001/jt202505155.jpg  \n",
            "  inflating: DatasetMultilable_Siti Kharomah_202255202001/jt202505156.jpg  \n",
            "  inflating: DatasetMultilable_Siti Kharomah_202255202001/jt202505157.jpg  \n",
            "  inflating: DatasetMultilable_Siti Kharomah_202255202001/jt202505158.jpg  \n",
            "  inflating: DatasetMultilable_Siti Kharomah_202255202001/jt202505159.jpg  \n",
            "  inflating: DatasetMultilable_Siti Kharomah_202255202001/jt202505160.jpg  \n",
            "  inflating: DatasetMultilable_Siti Kharomah_202255202001/jt202505161.jpg  \n",
            "  inflating: DatasetMultilable_Siti Kharomah_202255202001/jt202505162.jpg  \n",
            "  inflating: DatasetMultilable_Siti Kharomah_202255202001/jt202505163.jpg  \n",
            "  inflating: DatasetMultilable_Siti Kharomah_202255202001/jt202505164.jpg  \n",
            "  inflating: DatasetMultilable_Siti Kharomah_202255202001/jt202505165.jpg  \n",
            "  inflating: DatasetMultilable_Siti Kharomah_202255202001/jt202505166.jpg  \n",
            "  inflating: DatasetMultilable_Siti Kharomah_202255202001/jt202505167.jpg  \n",
            "  inflating: DatasetMultilable_Siti Kharomah_202255202001/jt202505168.jpg  \n",
            "  inflating: DatasetMultilable_Siti Kharomah_202255202001/jt202505169.jpg  \n",
            "  inflating: DatasetMultilable_Siti Kharomah_202255202001/jt202505170.jpg  \n",
            "  inflating: DatasetMultilable_Siti Kharomah_202255202001/jt202505171.jpg  \n",
            "  inflating: DatasetMultilable_Siti Kharomah_202255202001/jt202505172.jpg  \n",
            "  inflating: DatasetMultilable_Siti Kharomah_202255202001/jt202505173.jpg  \n",
            "  inflating: DatasetMultilable_Siti Kharomah_202255202001/jt202505174.jpg  \n",
            "  inflating: DatasetMultilable_Siti Kharomah_202255202001/jt202505175.jpg  \n",
            "  inflating: DatasetMultilable_Siti Kharomah_202255202001/jt202505176.jpg  \n",
            "  inflating: DatasetMultilable_Siti Kharomah_202255202001/jt202505177.jpg  \n",
            "  inflating: DatasetMultilable_Siti Kharomah_202255202001/jt202505178.jpg  \n",
            "  inflating: DatasetMultilable_Siti Kharomah_202255202001/jt202505179.jpg  \n",
            "  inflating: DatasetMultilable_Siti Kharomah_202255202001/jt202505180.jpg  \n",
            "  inflating: DatasetMultilable_Siti Kharomah_202255202001/jt202505181.jpg  \n",
            "  inflating: DatasetMultilable_Siti Kharomah_202255202001/jt202505182.jpg  \n",
            "  inflating: DatasetMultilable_Siti Kharomah_202255202001/jt202505183.jpg  \n",
            "  inflating: DatasetMultilable_Siti Kharomah_202255202001/jt202505184.jpg  \n",
            "  inflating: DatasetMultilable_Siti Kharomah_202255202001/jt202505185.jpg  \n",
            "  inflating: DatasetMultilable_Siti Kharomah_202255202001/jt202505186.jpg  \n",
            "  inflating: DatasetMultilable_Siti Kharomah_202255202001/jt202505187.jpg  \n",
            "  inflating: DatasetMultilable_Siti Kharomah_202255202001/jt202505188.jpg  \n",
            "  inflating: DatasetMultilable_Siti Kharomah_202255202001/jt202505189.jpg  \n",
            "  inflating: DatasetMultilable_Siti Kharomah_202255202001/jt202505190.jpg  \n",
            "  inflating: DatasetMultilable_Siti Kharomah_202255202001/jt202505191.jpg  \n",
            "  inflating: DatasetMultilable_Siti Kharomah_202255202001/jt202505192.jpg  \n",
            "  inflating: DatasetMultilable_Siti Kharomah_202255202001/jt202505193.jpg  \n",
            "  inflating: DatasetMultilable_Siti Kharomah_202255202001/jt202505194.jpg  \n",
            "  inflating: DatasetMultilable_Siti Kharomah_202255202001/jt202505195.jpg  \n",
            "  inflating: DatasetMultilable_Siti Kharomah_202255202001/jt202505196.jpg  \n",
            "  inflating: DatasetMultilable_Siti Kharomah_202255202001/jt202505197.jpg  \n",
            "  inflating: DatasetMultilable_Siti Kharomah_202255202001/jt202505198.jpg  \n",
            "  inflating: DatasetMultilable_Siti Kharomah_202255202001/jt202505199.jpg  \n",
            "  inflating: DatasetMultilable_Siti Kharomah_202255202001/jt202505200.jpg  \n",
            "  inflating: DatasetMultilable_Siti Kharomah_202255202001/jt202505201.jpg  \n",
            "  inflating: DatasetMultilable_Siti Kharomah_202255202001/jt202505202.jpg  \n",
            "  inflating: DatasetMultilable_Siti Kharomah_202255202001/jt202505203.jpg  \n",
            "  inflating: DatasetMultilable_Siti Kharomah_202255202001/jt202505204.jpg  \n",
            "  inflating: DatasetMultilable_Siti Kharomah_202255202001/jt202505205.jpg  \n",
            "  inflating: DatasetMultilable_Siti Kharomah_202255202001/jt202505206.jpg  \n",
            "  inflating: DatasetMultilable_Siti Kharomah_202255202001/jt202505207.jpg  \n",
            "  inflating: DatasetMultilable_Siti Kharomah_202255202001/jt202505208.jpg  \n",
            "  inflating: DatasetMultilable_Siti Kharomah_202255202001/jt202505209.jpg  \n",
            "  inflating: DatasetMultilable_Siti Kharomah_202255202001/jt202505210.jpg  \n",
            "  inflating: DatasetMultilable_Siti Kharomah_202255202001/jt202505211.jpg  \n",
            "  inflating: DatasetMultilable_Siti Kharomah_202255202001/jt202505212.jpg  \n",
            "  inflating: DatasetMultilable_Siti Kharomah_202255202001/jt202505213.jpg  \n",
            "  inflating: DatasetMultilable_Siti Kharomah_202255202001/jt202505214.jpg  \n",
            "  inflating: DatasetMultilable_Siti Kharomah_202255202001/jt202505215.jpg  \n",
            "  inflating: DatasetMultilable_Siti Kharomah_202255202001/jt202505216.jpg  \n",
            "  inflating: DatasetMultilable_Siti Kharomah_202255202001/jt202505217.jpg  \n",
            "  inflating: DatasetMultilable_Siti Kharomah_202255202001/jt202505218.jpg  \n",
            "  inflating: DatasetMultilable_Siti Kharomah_202255202001/jt202505219.jpg  \n",
            "  inflating: DatasetMultilable_Siti Kharomah_202255202001/jt202505220.jpg  \n",
            "  inflating: DatasetMultilable_Siti Kharomah_202255202001/jt202505221.jpg  \n",
            "  inflating: DatasetMultilable_Siti Kharomah_202255202001/jt202505222.jpg  \n",
            "  inflating: DatasetMultilable_Siti Kharomah_202255202001/jt202505223.jpg  \n",
            "  inflating: DatasetMultilable_Siti Kharomah_202255202001/jt202505224.jpg  \n",
            "  inflating: DatasetMultilable_Siti Kharomah_202255202001/jt202505225.jpg  \n",
            "  inflating: DatasetMultilable_Siti Kharomah_202255202001/jt202505226.jpg  \n",
            "  inflating: DatasetMultilable_Siti Kharomah_202255202001/jt202505227.jpg  \n",
            "  inflating: DatasetMultilable_Siti Kharomah_202255202001/jt202505228.jpg  \n",
            "  inflating: DatasetMultilable_Siti Kharomah_202255202001/jt202505229.jpg  \n",
            "  inflating: DatasetMultilable_Siti Kharomah_202255202001/jt202505230.jpg  \n",
            "  inflating: DatasetMultilable_Siti Kharomah_202255202001/jt202505231.jpg  \n",
            "  inflating: DatasetMultilable_Siti Kharomah_202255202001/jt202505232.jpg  \n",
            "  inflating: DatasetMultilable_Siti Kharomah_202255202001/jt202505233.jpg  \n",
            "  inflating: DatasetMultilable_Siti Kharomah_202255202001/jt202505234.jpg  \n",
            "  inflating: DatasetMultilable_Siti Kharomah_202255202001/jt202505235.jpg  \n",
            "  inflating: DatasetMultilable_Siti Kharomah_202255202001/jt202505236.jpg  \n",
            "  inflating: DatasetMultilable_Siti Kharomah_202255202001/jt202505237.jpg  \n",
            "  inflating: DatasetMultilable_Siti Kharomah_202255202001/jt202505238.jpg  \n",
            "  inflating: DatasetMultilable_Siti Kharomah_202255202001/jt202505239.jpg  \n",
            "  inflating: DatasetMultilable_Siti Kharomah_202255202001/jt202505240.jpg  \n",
            "  inflating: DatasetMultilable_Siti Kharomah_202255202001/jt202505241.jpg  \n",
            "  inflating: DatasetMultilable_Siti Kharomah_202255202001/jt202505242.jpg  \n",
            "  inflating: DatasetMultilable_Siti Kharomah_202255202001/jt202505243.jpg  \n",
            "  inflating: DatasetMultilable_Siti Kharomah_202255202001/jt202505244.jpg  \n",
            "  inflating: DatasetMultilable_Siti Kharomah_202255202001/jt202505245.jpg  \n",
            "  inflating: DatasetMultilable_Siti Kharomah_202255202001/jt202505246.jpg  \n",
            "  inflating: DatasetMultilable_Siti Kharomah_202255202001/jt202505247.jpg  \n",
            "  inflating: DatasetMultilable_Siti Kharomah_202255202001/jt202505248.jpg  \n",
            "  inflating: DatasetMultilable_Siti Kharomah_202255202001/jt202505249.jpg  \n",
            "  inflating: DatasetMultilable_Siti Kharomah_202255202001/jt202505250.jpg  \n",
            "  inflating: DatasetMultilable_Siti Kharomah_202255202001/jt202505251.jpg  \n",
            "  inflating: DatasetMultilable_Siti Kharomah_202255202001/jt202505252.jpg  \n",
            "  inflating: DatasetMultilable_Siti Kharomah_202255202001/jt202505253.jpg  \n",
            "  inflating: DatasetMultilable_Siti Kharomah_202255202001/jt202505254.jpg  \n",
            "  inflating: DatasetMultilable_Siti Kharomah_202255202001/jt202505255.jpg  \n",
            "  inflating: DatasetMultilable_Siti Kharomah_202255202001/jt202505256.jpg  \n",
            "  inflating: DatasetMultilable_Siti Kharomah_202255202001/jt202505257.jpg  \n",
            "  inflating: DatasetMultilable_Siti Kharomah_202255202001/jt202505258.jpg  \n",
            "  inflating: DatasetMultilable_Siti Kharomah_202255202001/jt202505259.jpg  \n",
            "  inflating: DatasetMultilable_Siti Kharomah_202255202001/jt202505260.jpg  \n",
            "  inflating: DatasetMultilable_Siti Kharomah_202255202001/jt202505261.jpg  \n",
            "  inflating: DatasetMultilable_Siti Kharomah_202255202001/jt202505262.jpg  \n",
            "  inflating: DatasetMultilable_Siti Kharomah_202255202001/jt202505263.jpg  \n",
            "  inflating: DatasetMultilable_Siti Kharomah_202255202001/jt202505264.jpg  \n",
            "  inflating: DatasetMultilable_Siti Kharomah_202255202001/jt202505265.jpg  \n",
            "  inflating: DatasetMultilable_Siti Kharomah_202255202001/jt202505266.jpg  \n",
            "  inflating: DatasetMultilable_Siti Kharomah_202255202001/jt202505267.jpg  \n",
            "  inflating: DatasetMultilable_Siti Kharomah_202255202001/jt202505268.jpg  \n",
            "  inflating: DatasetMultilable_Siti Kharomah_202255202001/jt202505269.jpg  \n",
            "  inflating: DatasetMultilable_Siti Kharomah_202255202001/jt202505270.jpg  \n",
            "  inflating: DatasetMultilable_Siti Kharomah_202255202001/jt202505271.jpg  \n",
            "  inflating: DatasetMultilable_Siti Kharomah_202255202001/jt202505272.jpg  \n",
            "  inflating: DatasetMultilable_Siti Kharomah_202255202001/jt202505273.jpg  \n",
            "  inflating: DatasetMultilable_Siti Kharomah_202255202001/jt202505274.jpg  \n",
            "  inflating: DatasetMultilable_Siti Kharomah_202255202001/jt202505275.jpg  \n",
            "  inflating: DatasetMultilable_Siti Kharomah_202255202001/jt202505276.jpg  \n",
            "  inflating: DatasetMultilable_Siti Kharomah_202255202001/jt202505277.jpg  \n",
            "  inflating: DatasetMultilable_Siti Kharomah_202255202001/jt202505278.jpg  \n",
            "  inflating: DatasetMultilable_Siti Kharomah_202255202001/jt202505279.jpg  \n",
            "  inflating: DatasetMultilable_Siti Kharomah_202255202001/jt202505280.jpg  \n",
            "  inflating: DatasetMultilable_Siti Kharomah_202255202001/jt202505281.jpg  \n",
            "  inflating: DatasetMultilable_Siti Kharomah_202255202001/jt202505282.jpg  \n",
            "  inflating: DatasetMultilable_Siti Kharomah_202255202001/jt202505283.jpg  \n",
            "  inflating: DatasetMultilable_Siti Kharomah_202255202001/jt202505284.jpg  \n",
            "  inflating: DatasetMultilable_Siti Kharomah_202255202001/jt202505285.jpg  \n",
            "  inflating: DatasetMultilable_Siti Kharomah_202255202001/jt202505286.jpg  \n",
            "  inflating: DatasetMultilable_Siti Kharomah_202255202001/jt202505287.jpg  \n",
            "  inflating: DatasetMultilable_Siti Kharomah_202255202001/jt202505288.jpg  \n",
            "  inflating: DatasetMultilable_Siti Kharomah_202255202001/jt202505289.jpg  \n",
            "  inflating: DatasetMultilable_Siti Kharomah_202255202001/jt202505290.jpg  \n",
            "  inflating: DatasetMultilable_Siti Kharomah_202255202001/jt202505291.jpg  \n",
            "  inflating: DatasetMultilable_Siti Kharomah_202255202001/jt202505292.jpg  \n",
            "  inflating: DatasetMultilable_Siti Kharomah_202255202001/jt202505293.jpg  \n",
            "  inflating: DatasetMultilable_Siti Kharomah_202255202001/jt202505294.jpg  \n",
            "  inflating: DatasetMultilable_Siti Kharomah_202255202001/jt202505295.jpg  \n",
            "  inflating: DatasetMultilable_Siti Kharomah_202255202001/jt202505296.jpg  \n",
            "  inflating: DatasetMultilable_Siti Kharomah_202255202001/jt202505297.jpg  \n",
            "  inflating: DatasetMultilable_Siti Kharomah_202255202001/jt202505298.jpg  \n",
            "  inflating: DatasetMultilable_Siti Kharomah_202255202001/jt202505299.jpg  \n",
            "  inflating: DatasetMultilable_Siti Kharomah_202255202001/jt202505300.jpg  \n",
            "  inflating: DatasetMultilable_Siti Kharomah_202255202001/jt202505301.jpg  \n",
            "  inflating: DatasetMultilable_Siti Kharomah_202255202001/jt202505302.jpg  \n",
            "  inflating: DatasetMultilable_Siti Kharomah_202255202001/jt202505303.jpg  \n",
            "  inflating: DatasetMultilable_Siti Kharomah_202255202001/jt202505304.jpg  \n",
            "  inflating: DatasetMultilable_Siti Kharomah_202255202001/jt202505305.jpg  \n",
            "  inflating: DatasetMultilable_Siti Kharomah_202255202001/jt202505306.jpg  \n",
            "  inflating: DatasetMultilable_Siti Kharomah_202255202001/jt202505307.jpg  \n",
            "  inflating: DatasetMultilable_Siti Kharomah_202255202001/jt202505308.jpg  \n",
            "  inflating: DatasetMultilable_Siti Kharomah_202255202001/jt202505309.jpg  \n",
            "  inflating: traindataset_siti kharomah_202255202001.csv  \n"
          ]
        }
      ]
    },
    {
      "cell_type": "code",
      "source": [
        "# Membaca metadata untuk mendapatkan Y values\n",
        "df = pd.read_csv('/content/traindataset_siti kharomah_202255202001.csv', sep=';')\n",
        "\n",
        "# Mencetak 10 baris secara acak\n",
        "print(df.sample(10))  # Mencetak 10 baris acak\n",
        "print(df.columns)"
      ],
      "metadata": {
        "colab": {
          "base_uri": "https://localhost:8080/"
        },
        "id": "ZbOhaSp0GMCs",
        "outputId": "109486b1-46a9-4276-c664-d50935ff2090"
      },
      "execution_count": 10,
      "outputs": [
        {
          "output_type": "stream",
          "name": "stdout",
          "text": [
            "              id                                        jenis telur  \\\n",
            "177  jt202505178             telur puyuh, telur ayam, telur kampung   \n",
            "257  jt202505258  telur bebek, telur puyuh, telur ayam,  telur k...   \n",
            "130  jt202505131               telur bebek, telur puyuh, telur asin   \n",
            "3    jt202505004                           telur bebek, telur ayam    \n",
            "183  jt202505184             telur puyuh, telur asin, telur kampung   \n",
            "23   jt202505024                          telur bebek, telur puyuh    \n",
            "283  jt202505284  telur bebek, telur puyuh, telur ayam,  telur asin   \n",
            "301  jt202505302  telur puyuh, telur ayam,  telur asin, telur ka...   \n",
            "188  jt202505189             telur puyuh, telur asin, telur kampung   \n",
            "49   jt202505050                            telur puyuh, telur ayam   \n",
            "\n",
            "     telur bebek  telur puyuh   telur ayam  telur asin  telur kampung  \n",
            "177            0            1            1           0              1  \n",
            "257            1            1            1           0              1  \n",
            "130            1            1            0           1              0  \n",
            "3              1            0            1           0              0  \n",
            "183            0            1            0           1              1  \n",
            "23             1            1            0           0              0  \n",
            "283            1            1            1           1              0  \n",
            "301            0            1            1           1              1  \n",
            "188            0            1            0           1              1  \n",
            "49             0            1            1           0              0  \n",
            "Index(['id', 'jenis telur', 'telur bebek', 'telur puyuh', ' telur ayam',\n",
            "       'telur asin', 'telur kampung'],\n",
            "      dtype='object')\n"
          ]
        }
      ]
    },
    {
      "cell_type": "code",
      "source": [
        "SIZE = 200\n",
        "X_dataset = []\n",
        "image_directory = '/content/DatasetMultilable_Siti Kharomah_202255202001/'\n",
        "\n",
        "for i in tqdm(range(df.shape[0])):\n",
        "    img = image.load_img(image_directory + df['id'][i] + '.jpg', target_size=(SIZE, SIZE, 3))\n",
        "    img = image.img_to_array(img)\n",
        "    img = img / 255.\n",
        "    X_dataset.append(img)\n",
        "\n",
        "X = np.array(X_dataset)"
      ],
      "metadata": {
        "colab": {
          "base_uri": "https://localhost:8080/"
        },
        "id": "vn3rtP31GMFG",
        "outputId": "a4493b2e-e9d7-4241-ae86-e13aeacdc773"
      },
      "execution_count": 11,
      "outputs": [
        {
          "output_type": "stream",
          "name": "stderr",
          "text": [
            "100%|██████████| 309/309 [00:36<00:00,  8.56it/s]\n"
          ]
        }
      ]
    },
    {
      "cell_type": "code",
      "source": [
        "# Memisahkan fitur dan label\n",
        "y = np.array(df.drop(['id', 'jenis telur'], axis=1))\n",
        "\n",
        "X_train, X_test, y_train, y_test = train_test_split(X, y, random_state=20, test_size=0.3)"
      ],
      "metadata": {
        "id": "2-F9CpZdGMJ3"
      },
      "execution_count": 12,
      "outputs": []
    },
    {
      "cell_type": "code",
      "source": [
        "# Augmentasi Data\n",
        "datagen = ImageDataGenerator(\n",
        "    rotation_range=20,\n",
        "    width_shift_range=0.2,\n",
        "    height_shift_range=0.2,\n",
        "    shear_range=0.2,\n",
        "    zoom_range=0.2,\n",
        "    horizontal_flip=True,\n",
        "    fill_mode='nearest'\n",
        ")"
      ],
      "metadata": {
        "id": "HhZkqS0oGMMb"
      },
      "execution_count": 13,
      "outputs": []
    },
    {
      "cell_type": "code",
      "source": [
        "# Transfer Learning dengan VGG16\n",
        "base_model = VGG16(weights='imagenet', include_top=False, input_shape=(SIZE, SIZE, 3))\n",
        "model = Sequential()\n",
        "model.add(base_model)\n",
        "model.add(Flatten())\n",
        "model.add(Dense(128, activation='relu'))\n",
        "model.add(Dropout(0.5))\n",
        "model.add(Dense(64, activation='relu'))\n",
        "model.add(Dropout(0.5))\n",
        "model.add(Dense(y.shape[1], activation='sigmoid'))  # Output sesuai jumlah kelas"
      ],
      "metadata": {
        "colab": {
          "base_uri": "https://localhost:8080/"
        },
        "id": "nyl14dDsGMPP",
        "outputId": "afdc0f8b-d6f4-4c32-e59c-cba3d631d5a5"
      },
      "execution_count": 14,
      "outputs": [
        {
          "output_type": "stream",
          "name": "stdout",
          "text": [
            "Downloading data from https://storage.googleapis.com/tensorflow/keras-applications/vgg16/vgg16_weights_tf_dim_ordering_tf_kernels_notop.h5\n",
            "\u001b[1m58889256/58889256\u001b[0m \u001b[32m━━━━━━━━━━━━━━━━━━━━\u001b[0m\u001b[37m\u001b[0m \u001b[1m0s\u001b[0m 0us/step\n"
          ]
        }
      ]
    },
    {
      "cell_type": "code",
      "source": [
        "# Mengunci lapisan dasar\n",
        "for layer in base_model.layers:\n",
        "    layer.trainable = False\n",
        "\n",
        "model.compile(optimizer='adam', loss='binary_crossentropy', metrics=['accuracy'])"
      ],
      "metadata": {
        "id": "rTdtYYm1GMU4"
      },
      "execution_count": 15,
      "outputs": []
    },
    {
      "cell_type": "code",
      "source": [
        "# Melatih model dengan augmentasi data\n",
        "history = model.fit(datagen.flow(X_train, y_train, batch_size=32),\n",
        "                    validation_data=(X_test, y_test),\n",
        "                    epochs=50)"
      ],
      "metadata": {
        "colab": {
          "base_uri": "https://localhost:8080/"
        },
        "id": "yZB-QRSvGMX5",
        "outputId": "e422b1d4-3458-4627-8f6b-14d88b1ea8a7"
      },
      "execution_count": 16,
      "outputs": [
        {
          "metadata": {
            "tags": null
          },
          "name": "stderr",
          "output_type": "stream",
          "text": [
            "/usr/local/lib/python3.11/dist-packages/keras/src/trainers/data_adapters/py_dataset_adapter.py:121: UserWarning: Your `PyDataset` class should call `super().__init__(**kwargs)` in its constructor. `**kwargs` can include `workers`, `use_multiprocessing`, `max_queue_size`. Do not pass these arguments to `fit()`, as they will be ignored.\n",
            "  self._warn_if_super_not_called()\n"
          ]
        },
        {
          "output_type": "stream",
          "name": "stdout",
          "text": [
            "Epoch 1/50\n",
            "\u001b[1m7/7\u001b[0m \u001b[32m━━━━━━━━━━━━━━━━━━━━\u001b[0m\u001b[37m\u001b[0m \u001b[1m202s\u001b[0m 31s/step - accuracy: 0.2656 - loss: 0.9966 - val_accuracy: 0.3441 - val_loss: 0.6675\n",
            "Epoch 2/50\n",
            "\u001b[1m7/7\u001b[0m \u001b[32m━━━━━━━━━━━━━━━━━━━━\u001b[0m\u001b[37m\u001b[0m \u001b[1m186s\u001b[0m 28s/step - accuracy: 0.2756 - loss: 0.7418 - val_accuracy: 0.3011 - val_loss: 0.6841\n",
            "Epoch 3/50\n",
            "\u001b[1m7/7\u001b[0m \u001b[32m━━━━━━━━━━━━━━━━━━━━\u001b[0m\u001b[37m\u001b[0m \u001b[1m153s\u001b[0m 23s/step - accuracy: 0.2861 - loss: 0.6964 - val_accuracy: 0.2903 - val_loss: 0.6830\n",
            "Epoch 4/50\n",
            "\u001b[1m7/7\u001b[0m \u001b[32m━━━━━━━━━━━━━━━━━━━━\u001b[0m\u001b[37m\u001b[0m \u001b[1m186s\u001b[0m 28s/step - accuracy: 0.3017 - loss: 0.6847 - val_accuracy: 0.0645 - val_loss: 0.6864\n",
            "Epoch 5/50\n",
            "\u001b[1m7/7\u001b[0m \u001b[32m━━━━━━━━━━━━━━━━━━━━\u001b[0m\u001b[37m\u001b[0m \u001b[1m186s\u001b[0m 28s/step - accuracy: 0.2783 - loss: 0.7064 - val_accuracy: 0.2151 - val_loss: 0.6829\n",
            "Epoch 6/50\n",
            "\u001b[1m7/7\u001b[0m \u001b[32m━━━━━━━━━━━━━━━━━━━━\u001b[0m\u001b[37m\u001b[0m \u001b[1m186s\u001b[0m 29s/step - accuracy: 0.2905 - loss: 0.6822 - val_accuracy: 0.1720 - val_loss: 0.6765\n",
            "Epoch 7/50\n",
            "\u001b[1m7/7\u001b[0m \u001b[32m━━━━━━━━━━━━━━━━━━━━\u001b[0m\u001b[37m\u001b[0m \u001b[1m188s\u001b[0m 28s/step - accuracy: 0.3327 - loss: 0.6762 - val_accuracy: 0.1828 - val_loss: 0.6723\n",
            "Epoch 8/50\n",
            "\u001b[1m7/7\u001b[0m \u001b[32m━━━━━━━━━━━━━━━━━━━━\u001b[0m\u001b[37m\u001b[0m \u001b[1m163s\u001b[0m 22s/step - accuracy: 0.3207 - loss: 0.6838 - val_accuracy: 0.3871 - val_loss: 0.6724\n",
            "Epoch 9/50\n",
            "\u001b[1m7/7\u001b[0m \u001b[32m━━━━━━━━━━━━━━━━━━━━\u001b[0m\u001b[37m\u001b[0m \u001b[1m240s\u001b[0m 29s/step - accuracy: 0.3500 - loss: 0.6804 - val_accuracy: 0.3656 - val_loss: 0.6676\n",
            "Epoch 10/50\n",
            "\u001b[1m7/7\u001b[0m \u001b[32m━━━━━━━━━━━━━━━━━━━━\u001b[0m\u001b[37m\u001b[0m \u001b[1m187s\u001b[0m 29s/step - accuracy: 0.3083 - loss: 0.6804 - val_accuracy: 0.4194 - val_loss: 0.6665\n",
            "Epoch 11/50\n",
            "\u001b[1m7/7\u001b[0m \u001b[32m━━━━━━━━━━━━━━━━━━━━\u001b[0m\u001b[37m\u001b[0m \u001b[1m187s\u001b[0m 29s/step - accuracy: 0.3118 - loss: 0.6728 - val_accuracy: 0.4194 - val_loss: 0.6664\n",
            "Epoch 12/50\n",
            "\u001b[1m7/7\u001b[0m \u001b[32m━━━━━━━━━━━━━━━━━━━━\u001b[0m\u001b[37m\u001b[0m \u001b[1m150s\u001b[0m 22s/step - accuracy: 0.3920 - loss: 0.6720 - val_accuracy: 0.4194 - val_loss: 0.6633\n",
            "Epoch 13/50\n",
            "\u001b[1m7/7\u001b[0m \u001b[32m━━━━━━━━━━━━━━━━━━━━\u001b[0m\u001b[37m\u001b[0m \u001b[1m237s\u001b[0m 28s/step - accuracy: 0.3339 - loss: 0.6683 - val_accuracy: 0.4194 - val_loss: 0.6607\n",
            "Epoch 14/50\n",
            "\u001b[1m7/7\u001b[0m \u001b[32m━━━━━━━━━━━━━━━━━━━━\u001b[0m\u001b[37m\u001b[0m \u001b[1m184s\u001b[0m 28s/step - accuracy: 0.2970 - loss: 0.6669 - val_accuracy: 0.4194 - val_loss: 0.6563\n",
            "Epoch 15/50\n",
            "\u001b[1m7/7\u001b[0m \u001b[32m━━━━━━━━━━━━━━━━━━━━\u001b[0m\u001b[37m\u001b[0m \u001b[1m186s\u001b[0m 28s/step - accuracy: 0.3583 - loss: 0.6745 - val_accuracy: 0.4194 - val_loss: 0.6639\n",
            "Epoch 16/50\n",
            "\u001b[1m7/7\u001b[0m \u001b[32m━━━━━━━━━━━━━━━━━━━━\u001b[0m\u001b[37m\u001b[0m \u001b[1m186s\u001b[0m 28s/step - accuracy: 0.3331 - loss: 0.6750 - val_accuracy: 0.4194 - val_loss: 0.6581\n",
            "Epoch 17/50\n",
            "\u001b[1m7/7\u001b[0m \u001b[32m━━━━━━━━━━━━━━━━━━━━\u001b[0m\u001b[37m\u001b[0m \u001b[1m184s\u001b[0m 28s/step - accuracy: 0.3291 - loss: 0.6758 - val_accuracy: 0.4194 - val_loss: 0.6631\n",
            "Epoch 18/50\n",
            "\u001b[1m7/7\u001b[0m \u001b[32m━━━━━━━━━━━━━━━━━━━━\u001b[0m\u001b[37m\u001b[0m \u001b[1m184s\u001b[0m 28s/step - accuracy: 0.3914 - loss: 0.6659 - val_accuracy: 0.4194 - val_loss: 0.6547\n",
            "Epoch 19/50\n",
            "\u001b[1m7/7\u001b[0m \u001b[32m━━━━━━━━━━━━━━━━━━━━\u001b[0m\u001b[37m\u001b[0m \u001b[1m146s\u001b[0m 22s/step - accuracy: 0.3897 - loss: 0.6593 - val_accuracy: 0.4194 - val_loss: 0.6615\n",
            "Epoch 20/50\n",
            "\u001b[1m7/7\u001b[0m \u001b[32m━━━━━━━━━━━━━━━━━━━━\u001b[0m\u001b[37m\u001b[0m \u001b[1m185s\u001b[0m 28s/step - accuracy: 0.3618 - loss: 0.6703 - val_accuracy: 0.4194 - val_loss: 0.6624\n",
            "Epoch 21/50\n",
            "\u001b[1m7/7\u001b[0m \u001b[32m━━━━━━━━━━━━━━━━━━━━\u001b[0m\u001b[37m\u001b[0m \u001b[1m185s\u001b[0m 28s/step - accuracy: 0.3753 - loss: 0.6699 - val_accuracy: 0.4194 - val_loss: 0.6506\n",
            "Epoch 22/50\n",
            "\u001b[1m7/7\u001b[0m \u001b[32m━━━━━━━━━━━━━━━━━━━━\u001b[0m\u001b[37m\u001b[0m \u001b[1m184s\u001b[0m 29s/step - accuracy: 0.3689 - loss: 0.6624 - val_accuracy: 0.4194 - val_loss: 0.6558\n",
            "Epoch 23/50\n",
            "\u001b[1m7/7\u001b[0m \u001b[32m━━━━━━━━━━━━━━━━━━━━\u001b[0m\u001b[37m\u001b[0m \u001b[1m163s\u001b[0m 21s/step - accuracy: 0.3297 - loss: 0.6528 - val_accuracy: 0.4194 - val_loss: 0.6433\n",
            "Epoch 24/50\n",
            "\u001b[1m7/7\u001b[0m \u001b[32m━━━━━━━━━━━━━━━━━━━━\u001b[0m\u001b[37m\u001b[0m \u001b[1m190s\u001b[0m 28s/step - accuracy: 0.3757 - loss: 0.6556 - val_accuracy: 0.4194 - val_loss: 0.6427\n",
            "Epoch 25/50\n",
            "\u001b[1m7/7\u001b[0m \u001b[32m━━━━━━━━━━━━━━━━━━━━\u001b[0m\u001b[37m\u001b[0m \u001b[1m185s\u001b[0m 28s/step - accuracy: 0.3396 - loss: 0.6384 - val_accuracy: 0.4194 - val_loss: 0.6367\n",
            "Epoch 26/50\n",
            "\u001b[1m7/7\u001b[0m \u001b[32m━━━━━━━━━━━━━━━━━━━━\u001b[0m\u001b[37m\u001b[0m \u001b[1m185s\u001b[0m 28s/step - accuracy: 0.4021 - loss: 0.6434 - val_accuracy: 0.4194 - val_loss: 0.6386\n",
            "Epoch 27/50\n",
            "\u001b[1m7/7\u001b[0m \u001b[32m━━━━━━━━━━━━━━━━━━━━\u001b[0m\u001b[37m\u001b[0m \u001b[1m184s\u001b[0m 28s/step - accuracy: 0.3958 - loss: 0.6292 - val_accuracy: 0.4194 - val_loss: 0.6296\n",
            "Epoch 28/50\n",
            "\u001b[1m7/7\u001b[0m \u001b[32m━━━━━━━━━━━━━━━━━━━━\u001b[0m\u001b[37m\u001b[0m \u001b[1m203s\u001b[0m 28s/step - accuracy: 0.3623 - loss: 0.6567 - val_accuracy: 0.4194 - val_loss: 0.6310\n",
            "Epoch 29/50\n",
            "\u001b[1m7/7\u001b[0m \u001b[32m━━━━━━━━━━━━━━━━━━━━\u001b[0m\u001b[37m\u001b[0m \u001b[1m183s\u001b[0m 28s/step - accuracy: 0.3829 - loss: 0.6587 - val_accuracy: 0.4194 - val_loss: 0.6587\n",
            "Epoch 30/50\n",
            "\u001b[1m7/7\u001b[0m \u001b[32m━━━━━━━━━━━━━━━━━━━━\u001b[0m\u001b[37m\u001b[0m \u001b[1m184s\u001b[0m 28s/step - accuracy: 0.4095 - loss: 0.6613 - val_accuracy: 0.4194 - val_loss: 0.6253\n",
            "Epoch 31/50\n",
            "\u001b[1m7/7\u001b[0m \u001b[32m━━━━━━━━━━━━━━━━━━━━\u001b[0m\u001b[37m\u001b[0m \u001b[1m185s\u001b[0m 28s/step - accuracy: 0.3689 - loss: 0.6590 - val_accuracy: 0.4194 - val_loss: 0.6595\n",
            "Epoch 32/50\n",
            "\u001b[1m7/7\u001b[0m \u001b[32m━━━━━━━━━━━━━━━━━━━━\u001b[0m\u001b[37m\u001b[0m \u001b[1m185s\u001b[0m 28s/step - accuracy: 0.4194 - loss: 0.6554 - val_accuracy: 0.4194 - val_loss: 0.6381\n",
            "Epoch 33/50\n",
            "\u001b[1m7/7\u001b[0m \u001b[32m━━━━━━━━━━━━━━━━━━━━\u001b[0m\u001b[37m\u001b[0m \u001b[1m202s\u001b[0m 28s/step - accuracy: 0.4294 - loss: 0.6453 - val_accuracy: 0.4194 - val_loss: 0.6288\n",
            "Epoch 34/50\n",
            "\u001b[1m7/7\u001b[0m \u001b[32m━━━━━━━━━━━━━━━━━━━━\u001b[0m\u001b[37m\u001b[0m \u001b[1m185s\u001b[0m 28s/step - accuracy: 0.4266 - loss: 0.6509 - val_accuracy: 0.4194 - val_loss: 0.6252\n",
            "Epoch 35/50\n",
            "\u001b[1m7/7\u001b[0m \u001b[32m━━━━━━━━━━━━━━━━━━━━\u001b[0m\u001b[37m\u001b[0m \u001b[1m184s\u001b[0m 28s/step - accuracy: 0.3322 - loss: 0.6332 - val_accuracy: 0.4194 - val_loss: 0.6228\n",
            "Epoch 36/50\n",
            "\u001b[1m7/7\u001b[0m \u001b[32m━━━━━━━━━━━━━━━━━━━━\u001b[0m\u001b[37m\u001b[0m \u001b[1m186s\u001b[0m 29s/step - accuracy: 0.3986 - loss: 0.6511 - val_accuracy: 0.4194 - val_loss: 0.6380\n",
            "Epoch 37/50\n",
            "\u001b[1m7/7\u001b[0m \u001b[32m━━━━━━━━━━━━━━━━━━━━\u001b[0m\u001b[37m\u001b[0m \u001b[1m188s\u001b[0m 29s/step - accuracy: 0.3970 - loss: 0.6450 - val_accuracy: 0.4194 - val_loss: 0.6108\n",
            "Epoch 38/50\n",
            "\u001b[1m7/7\u001b[0m \u001b[32m━━━━━━━━━━━━━━━━━━━━\u001b[0m\u001b[37m\u001b[0m \u001b[1m147s\u001b[0m 22s/step - accuracy: 0.3949 - loss: 0.6448 - val_accuracy: 0.4194 - val_loss: 0.6267\n",
            "Epoch 39/50\n",
            "\u001b[1m7/7\u001b[0m \u001b[32m━━━━━━━━━━━━━━━━━━━━\u001b[0m\u001b[37m\u001b[0m \u001b[1m184s\u001b[0m 28s/step - accuracy: 0.3527 - loss: 0.6352 - val_accuracy: 0.4194 - val_loss: 0.6214\n",
            "Epoch 40/50\n",
            "\u001b[1m7/7\u001b[0m \u001b[32m━━━━━━━━━━━━━━━━━━━━\u001b[0m\u001b[37m\u001b[0m \u001b[1m185s\u001b[0m 28s/step - accuracy: 0.3941 - loss: 0.6346 - val_accuracy: 0.4194 - val_loss: 0.6278\n",
            "Epoch 41/50\n",
            "\u001b[1m7/7\u001b[0m \u001b[32m━━━━━━━━━━━━━━━━━━━━\u001b[0m\u001b[37m\u001b[0m \u001b[1m185s\u001b[0m 29s/step - accuracy: 0.3915 - loss: 0.6507 - val_accuracy: 0.4194 - val_loss: 0.6217\n",
            "Epoch 42/50\n",
            "\u001b[1m7/7\u001b[0m \u001b[32m━━━━━━━━━━━━━━━━━━━━\u001b[0m\u001b[37m\u001b[0m \u001b[1m184s\u001b[0m 28s/step - accuracy: 0.4119 - loss: 0.6331 - val_accuracy: 0.4194 - val_loss: 0.6054\n",
            "Epoch 43/50\n",
            "\u001b[1m7/7\u001b[0m \u001b[32m━━━━━━━━━━━━━━━━━━━━\u001b[0m\u001b[37m\u001b[0m \u001b[1m185s\u001b[0m 28s/step - accuracy: 0.3817 - loss: 0.6446 - val_accuracy: 0.4194 - val_loss: 0.6344\n",
            "Epoch 44/50\n",
            "\u001b[1m7/7\u001b[0m \u001b[32m━━━━━━━━━━━━━━━━━━━━\u001b[0m\u001b[37m\u001b[0m \u001b[1m186s\u001b[0m 29s/step - accuracy: 0.3875 - loss: 0.6430 - val_accuracy: 0.4194 - val_loss: 0.6141\n",
            "Epoch 45/50\n",
            "\u001b[1m7/7\u001b[0m \u001b[32m━━━━━━━━━━━━━━━━━━━━\u001b[0m\u001b[37m\u001b[0m \u001b[1m202s\u001b[0m 28s/step - accuracy: 0.3809 - loss: 0.6403 - val_accuracy: 0.4194 - val_loss: 0.6128\n",
            "Epoch 46/50\n",
            "\u001b[1m7/7\u001b[0m \u001b[32m━━━━━━━━━━━━━━━━━━━━\u001b[0m\u001b[37m\u001b[0m \u001b[1m164s\u001b[0m 22s/step - accuracy: 0.3626 - loss: 0.6220 - val_accuracy: 0.4194 - val_loss: 0.6201\n",
            "Epoch 47/50\n",
            "\u001b[1m7/7\u001b[0m \u001b[32m━━━━━━━━━━━━━━━━━━━━\u001b[0m\u001b[37m\u001b[0m \u001b[1m184s\u001b[0m 28s/step - accuracy: 0.3761 - loss: 0.6334 - val_accuracy: 0.4194 - val_loss: 0.6139\n",
            "Epoch 48/50\n",
            "\u001b[1m7/7\u001b[0m \u001b[32m━━━━━━━━━━━━━━━━━━━━\u001b[0m\u001b[37m\u001b[0m \u001b[1m186s\u001b[0m 28s/step - accuracy: 0.3923 - loss: 0.6427 - val_accuracy: 0.4194 - val_loss: 0.6256\n",
            "Epoch 49/50\n",
            "\u001b[1m7/7\u001b[0m \u001b[32m━━━━━━━━━━━━━━━━━━━━\u001b[0m\u001b[37m\u001b[0m \u001b[1m185s\u001b[0m 29s/step - accuracy: 0.3234 - loss: 0.6403 - val_accuracy: 0.4194 - val_loss: 0.6100\n",
            "Epoch 50/50\n",
            "\u001b[1m7/7\u001b[0m \u001b[32m━━━━━━━━━━━━━━━━━━━━\u001b[0m\u001b[37m\u001b[0m \u001b[1m202s\u001b[0m 28s/step - accuracy: 0.3634 - loss: 0.6521 - val_accuracy: 0.4194 - val_loss: 0.6181\n"
          ]
        }
      ]
    },
    {
      "cell_type": "code",
      "source": [
        "# Plot akurasi dan loss\n",
        "loss = history.history['loss']\n",
        "val_loss = history.history['val_loss']\n",
        "epochs = range(1, len(loss) + 1)\n",
        "\n",
        "plt.plot(epochs, loss, 'y', label='Training loss')\n",
        "plt.plot(epochs, val_loss, 'r', label='Validation loss')\n",
        "plt.title('Training and validation loss')\n",
        "plt.xlabel('Epochs')\n",
        "plt.ylabel('Loss')\n",
        "plt.legend()\n",
        "plt.show()\n",
        "\n",
        "acc = history.history['accuracy']\n",
        "val_acc = history.history['val_accuracy']\n",
        "plt.plot(epochs, acc, 'y', label='Training acc')\n",
        "plt.plot(epochs, val_acc, 'r', label='Validation acc')\n",
        "plt.title('Training and validation accuracy')\n",
        "plt.xlabel('Epochs')\n",
        "plt.ylabel('Accuracy')\n",
        "plt.legend()\n",
        "plt.show()\n"
      ],
      "metadata": {
        "colab": {
          "base_uri": "https://localhost:8080/",
          "height": 927
        },
        "id": "b8iGpd0FGMa3",
        "outputId": "a471db64-bae9-489e-dd0b-5abdff469328"
      },
      "execution_count": 17,
      "outputs": [
        {
          "output_type": "display_data",
          "data": {
            "text/plain": [
              "<Figure size 640x480 with 1 Axes>"
            ],
            "image/png": "[encoded data removed]"
          },
          "metadata": {}
        },
        {
          "output_type": "display_data",
          "data": {
            "text/plain": [
              "<Figure size 640x480 with 1 Axes>"
            ],
            "image/png": "[encoded data removed]"
          },
          "metadata": {}
        }
      ]
    },
    {
      "cell_type": "code",
      "source": [
        "# Evaluasi model\n",
        "y_pred = model.predict(X_test)\n",
        "y_pred_classes = (y_pred > 0.5).astype(int)"
      ],
      "metadata": {
        "colab": {
          "base_uri": "https://localhost:8080/"
        },
        "id": "itBwSaS7GMgy",
        "outputId": "6bcdca4f-4f45-4501-a4ae-024d5acb6087"
      },
      "execution_count": 18,
      "outputs": [
        {
          "output_type": "stream",
          "name": "stdout",
          "text": [
            "\u001b[1m3/3\u001b[0m \u001b[32m━━━━━━━━━━━━━━━━━━━━\u001b[0m\u001b[37m\u001b[0m \u001b[1m45s\u001b[0m 14s/step\n"
          ]
        }
      ]
    },
    {
      "cell_type": "code",
      "source": [
        "###################################################\n",
        "\n",
        "_, acc = model.evaluate(X_test, y_test)\n",
        "print(\"Accuracy = \", (acc * 100.0), \"%\")\n",
        "\n",
        "################################################################"
      ],
      "metadata": {
        "colab": {
          "base_uri": "https://localhost:8080/"
        },
        "id": "cK_FZDDLsykj",
        "outputId": "928c4d95-e392-45f4-df54-218b3df9449c"
      },
      "execution_count": 19,
      "outputs": [
        {
          "output_type": "stream",
          "name": "stdout",
          "text": [
            "\u001b[1m3/3\u001b[0m \u001b[32m━━━━━━━━━━━━━━━━━━━━\u001b[0m\u001b[37m\u001b[0m \u001b[1m44s\u001b[0m 14s/step - accuracy: 0.4167 - loss: 0.6260\n",
            "Accuracy =  41.93548262119293 %\n"
          ]
        }
      ]
    },
    {
      "cell_type": "code",
      "source": [
        "# Classification report\n",
        "print(classification_report(y_test, y_pred_classes, target_names=df.columns[2:]))"
      ],
      "metadata": {
        "colab": {
          "base_uri": "https://localhost:8080/"
        },
        "id": "btkR-16uGMjg",
        "outputId": "8310ed56-8508-4d2f-952f-3f6169e66dc5"
      },
      "execution_count": 20,
      "outputs": [
        {
          "output_type": "stream",
          "name": "stdout",
          "text": [
            "               precision    recall  f1-score   support\n",
            "\n",
            "  telur bebek       0.71      0.96      0.82        51\n",
            "  telur puyuh       0.66      1.00      0.79        61\n",
            "   telur ayam       0.77      0.97      0.86        59\n",
            "   telur asin       0.59      1.00      0.74        55\n",
            "telur kampung       0.56      1.00      0.72        52\n",
            "\n",
            "    micro avg       0.65      0.99      0.78       278\n",
            "    macro avg       0.66      0.99      0.79       278\n",
            " weighted avg       0.66      0.99      0.79       278\n",
            "  samples avg       0.66      0.99      0.78       278\n",
            "\n"
          ]
        }
      ]
    },
    {
      "cell_type": "code",
      "source": [
        "# Confusion matrix\n",
        "for i in range(y.shape[1]):\n",
        "    print(f\"Confusion Matrix for {df.columns[i + 2]}:\")\n",
        "    print(confusion_matrix(y_test[:, i], y_pred_classes[:, i]))"
      ],
      "metadata": {
        "colab": {
          "base_uri": "https://localhost:8080/"
        },
        "id": "lHURqwnBGMn7",
        "outputId": "c16729eb-8d1b-4b33-9903-c720f46fdf24"
      },
      "execution_count": 21,
      "outputs": [
        {
          "output_type": "stream",
          "name": "stdout",
          "text": [
            "Confusion Matrix for telur bebek:\n",
            "[[22 20]\n",
            " [ 2 49]]\n",
            "Confusion Matrix for telur puyuh:\n",
            "[[ 0 32]\n",
            " [ 0 61]]\n",
            "Confusion Matrix for  telur ayam:\n",
            "[[17 17]\n",
            " [ 2 57]]\n",
            "Confusion Matrix for telur asin:\n",
            "[[ 0 38]\n",
            " [ 0 55]]\n",
            "Confusion Matrix for telur kampung:\n",
            "[[ 0 41]\n",
            " [ 0 52]]\n"
          ]
        }
      ]
    }
  ]
}